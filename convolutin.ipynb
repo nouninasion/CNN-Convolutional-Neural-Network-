{
  "nbformat": 4,
  "nbformat_minor": 0,
  "metadata": {
    "colab": {
      "provenance": [],
      "gpuType": "T4"
    },
    "kernelspec": {
      "name": "python3",
      "display_name": "Python 3"
    },
    "language_info": {
      "name": "python"
    },
    "accelerator": "GPU"
  },
  "cells": [
    {
      "cell_type": "code",
      "execution_count": 1,
      "metadata": {
        "colab": {
          "base_uri": "https://localhost:8080/"
        },
        "id": "3q-zVj0fnzY6",
        "outputId": "a9145506-905d-44b4-b423-ac5f39c4d0e6"
      },
      "outputs": [
        {
          "output_type": "stream",
          "name": "stdout",
          "text": [
            "[0.0, 0.5019607843137255, 0.7843137254901961, 1.0]\n"
          ]
        }
      ],
      "source": [
        "pixel_value = [0, 128, 200, 255]\n",
        "\n",
        "normal_pixel = [p / 255.0 for p in pixel_value]\n",
        "\n",
        "print(normal_pixel)\n"
      ]
    }
  ]
}